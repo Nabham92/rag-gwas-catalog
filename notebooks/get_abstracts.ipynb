{
 "cells": [
  {
   "cell_type": "markdown",
   "id": "9c0ed35f",
   "metadata": {},
   "source": [
    "# PubMed Abstract Downloader\n",
    "\n",
    "This notebook retrieves abstracts for the top 1000 most-cited GWAS studies based on the number of associations, using the Entrez API.\n"
   ]
  },
  {
   "cell_type": "markdown",
   "id": "6940cc25",
   "metadata": {},
   "source": [
    "## 1. Load GWAS summary data and select top PMIDs\n"
   ]
  },
  {
   "cell_type": "code",
   "execution_count": null,
   "id": "ea61dbfe",
   "metadata": {},
   "outputs": [
    {
     "name": "stderr",
     "output_type": "stream",
     "text": [
      "/tmp/ipykernel_92567/3690930739.py:3: DtypeWarning: Columns (10,12,13,14,30) have mixed types. Specify dtype option on import or set low_memory=False.\n",
      "  df=pd.read_csv(r\"data/significant_associations.csv\")\n"
     ]
    }
   ],
   "source": [
    "import pandas as pd \n",
    "import os \n",
    "\n",
    "# Make sure to be in the right directory\n",
    "print(os.getcwd())\n",
    "print(os.chdir(r\"..\"))\n",
    "print(os.getcwd())\n",
    "\n",
    "df=pd.read_csv(r\"data/significant_associations.csv\")\n",
    "\n",
    "# Filter for the top 500 studies \n",
    "top_pmids = (\n",
    "    df[\"PUBMEDID\"]\n",
    "    .dropna()\n",
    "    .value_counts()\n",
    "    .head(1000)\n",
    "    .index\n",
    "    .astype(int)\n",
    "    .tolist()\n",
    ")\n"
   ]
  },
  {
   "cell_type": "markdown",
   "id": "1ec4306c",
   "metadata": {},
   "source": [
    "## 2. Download abstracts from PubMed using Entrez\n"
   ]
  },
  {
   "cell_type": "code",
   "execution_count": null,
   "id": "a82cd920",
   "metadata": {},
   "outputs": [],
   "source": [
    "from Bio import Entrez\n",
    "import time\n",
    "import json\n",
    "\n",
    "# Entrez API configuration\n",
    "Entrez.email =  \"\" # Replace if needed\n",
    "Entrez.api_key = \"\"\n",
    "\n",
    "# Function to fetch one abstract\n",
    "def fetch_abstract(pmid):\n",
    "    try:\n",
    "        handle = Entrez.efetch(db=\"pubmed\", id=str(pmid), rettype=\"abstract\", retmode=\"text\")\n",
    "        abstract = handle.read()\n",
    "        return abstract.strip()\n",
    "    except Exception as e:\n",
    "        print(f\"❌ PMID {pmid} failed: {e}\")\n",
    "        return None\n"
   ]
  },
  {
   "cell_type": "markdown",
   "id": "8a7e0708",
   "metadata": {},
   "source": [
    "## 3. Loop through PMIDs and fetch abstracts\n"
   ]
  },
  {
   "cell_type": "code",
   "execution_count": null,
   "id": "4a2a1dd8",
   "metadata": {},
   "outputs": [],
   "source": [
    "abstracts = {}\n",
    "for i, pmid in enumerate(top_pmids):\n",
    "    print(f\"🔄 Fetching PMID {pmid} ({i+1}/{len(top_pmids)})\")\n",
    "    abs_text = fetch_abstract(pmid)\n",
    "    if abs_text:\n",
    "        abstracts[pmid] = abs_text\n",
    "    time.sleep(0.1)  # Be nice to the API, even with a key\n",
    "\n",
    "print(f\"✅ Retrieved {len(abstracts)} abstracts.\")\n"
   ]
  },
  {
   "cell_type": "markdown",
   "id": "4bca1a02",
   "metadata": {},
   "source": [
    "## 4. Save abstract data as JSON\n"
   ]
  },
  {
   "cell_type": "code",
   "execution_count": null,
   "id": "322124d8",
   "metadata": {},
   "outputs": [],
   "source": [
    "output_file = \"data/raw/pubmed_abstracts_top1000.json\"\n",
    "\n",
    "with open(output_file, \"w\") as f:\n",
    "    json.dump(abstracts, f, indent=2)\n",
    "\n",
    "print(f\"✅ Abstracts saved to: {output_file}\")\n"
   ]
  }
 ],
 "metadata": {
  "kernelspec": {
   "display_name": "venv (3.12.3)",
   "language": "python",
   "name": "python3"
  },
  "language_info": {
   "codemirror_mode": {
    "name": "ipython",
    "version": 3
   },
   "file_extension": ".py",
   "mimetype": "text/x-python",
   "name": "python",
   "nbconvert_exporter": "python",
   "pygments_lexer": "ipython3",
   "version": "3.12.3"
  }
 },
 "nbformat": 4,
 "nbformat_minor": 5
}
