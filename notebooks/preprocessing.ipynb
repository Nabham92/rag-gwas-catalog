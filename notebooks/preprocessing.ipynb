{
 "cells": [
  {
   "cell_type": "code",
   "execution_count": null,
   "id": "1808d919",
   "metadata": {},
   "outputs": [],
   "source": [
    "import pandas as pd\n",
    "import re\n",
    "\n",
    "# Load GWAS data\n",
    "df = pd.read_csv(\"data/gwas_catalog_v1.0-associations_e114_r2025-07-21.tsv\", sep=\"\\t\")\n",
    "\n",
    "# Remove rows with missing values\n",
    "df = df.dropna(subset=[\"SNPS\", \"MAPPED_GENE\", \"DISEASE/TRAIT\", \"P-VALUE\"])\n",
    "df = df[~df[\"SNPS\"].isin([\"NR\", \"\"])]\n",
    "\n",
    "# Clean base columns\n",
    "df[\"SNPS\"] = df[\"SNPS\"].str.strip().str.upper()\n",
    "df[\"DISEASE/TRAIT\"] = df[\"DISEASE/TRAIT\"].str.strip()\n",
    "\n",
    "# Clean MAPPED_GENE: uppercase and remove symbols\n",
    "df[\"MAPPED_GENE\"] = df[\"MAPPED_GENE\"].str.upper().str.strip()\n",
    "df[\"MAPPED_GENE\"] = df[\"MAPPED_GENE\"].apply(lambda x: re.sub(r\"[^A-Z0-9,\\-\\s|;/]\", \"\", x))\n",
    "\n",
    "# Replace all known separators by one single pipe `|`\n",
    "df[\"GENE\"] = df[\"MAPPED_GENE\"].str.replace(r\"\\s*(,|;|/|\\||\\s-\\s|\\sAND\\s|\\s{2,})\\s*\", \"|\", regex=True)\n",
    "\n",
    "# Now split on pipe\n",
    "df[\"GENE\"] = df[\"GENE\"].str.split(\"|\")\n",
    "\n",
    "# Explode to one gene per row\n",
    "df = df.explode(\"GENE\")\n",
    "\n",
    "# Final cleanup\n",
    "df[\"GENE\"] = df[\"GENE\"].str.strip().str.upper()\n",
    "df = df[df[\"GENE\"] != \"\"]\n",
    "\n",
    "# Select only studies with a p-value lower than a set threshold\n",
    "threshold=5e-8\n",
    "df = df[df[\"P-VALUE\"].astype(float) < threshold]\n",
    "\n",
    "# Drop duplicates\n",
    "df = df.drop_duplicates(subset=[\"SNPS\", \"GENE\", \"DISEASE/TRAIT\", \"P-VALUE\"])\n",
    "\n",
    "# Save\n",
    "df.to_csv(\"gwas-clean.csv\", index=False)\n",
    "print(f\"✅ Cleaned data saved with {len(df)} rows.\")\n"
   ]
  }
 ],
 "metadata": {
  "kernelspec": {
   "display_name": "venv (3.12.3)",
   "language": "python",
   "name": "python3"
  },
  "language_info": {
   "codemirror_mode": {
    "name": "ipython",
    "version": 3
   },
   "file_extension": ".py",
   "mimetype": "text/x-python",
   "name": "python",
   "nbconvert_exporter": "python",
   "pygments_lexer": "ipython3",
   "version": "3.12.3"
  }
 },
 "nbformat": 4,
 "nbformat_minor": 5
}
